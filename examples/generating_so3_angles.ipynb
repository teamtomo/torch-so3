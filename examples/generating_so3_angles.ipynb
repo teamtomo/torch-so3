{
 "cells": [
  {
   "cell_type": "markdown",
   "metadata": {},
   "source": [
    "# Generating angles on SO(3) grid"
   ]
  },
  {
   "cell_type": "code",
   "execution_count": 1,
   "metadata": {},
   "outputs": [],
   "source": [
    "from torch_so3.uniform_so3_sampling import get_uniform_euler_angles"
   ]
  },
  {
   "cell_type": "code",
   "execution_count": 2,
   "metadata": {},
   "outputs": [
    {
     "data": {
      "text/plain": [
       "torch.Size([1584480, 3])"
      ]
     },
     "execution_count": 2,
     "metadata": {},
     "output_type": "execute_result"
    }
   ],
   "source": [
    "angles = get_uniform_euler_angles(\n",
    "    psi_step=1.5,\n",
    "    theta_step=2.5,\n",
    "    phi_min=0.0,\n",
    "    phi_max=360.0,\n",
    "    theta_min=0.0,\n",
    "    theta_max=180.0,\n",
    "    psi_min=0.0,\n",
    "    psi_max=360.0,\n",
    "    base_grid_method=\"uniform\",\n",
    "    # base_grid_method=\"healpix\",\n",
    ")\n",
    "angles.shape"
   ]
  },
  {
   "cell_type": "code",
   "execution_count": 3,
   "metadata": {},
   "outputs": [
    {
     "data": {
      "text/plain": [
       "tensor([[  0.0000,   0.0000,   0.0000],\n",
       "        [  2.5000,   0.0000,   0.0000],\n",
       "        [  2.5000,  60.0000,   0.0000],\n",
       "        [  2.5000, 120.0000,   0.0000],\n",
       "        [  2.5000, 180.0000,   0.0000],\n",
       "        [  2.5000, 240.0000,   0.0000],\n",
       "        [  2.5000, 300.0000,   0.0000],\n",
       "        [  5.0000,   0.0000,   0.0000],\n",
       "        [  5.0000,  27.6923,   0.0000],\n",
       "        [  5.0000,  55.3846,   0.0000],\n",
       "        [  5.0000,  83.0769,   0.0000],\n",
       "        [  5.0000, 110.7692,   0.0000],\n",
       "        [  5.0000, 138.4615,   0.0000],\n",
       "        [  5.0000, 166.1538,   0.0000],\n",
       "        [  5.0000, 193.8462,   0.0000],\n",
       "        [  5.0000, 221.5385,   0.0000],\n",
       "        [  5.0000, 249.2308,   0.0000],\n",
       "        [  5.0000, 276.9231,   0.0000],\n",
       "        [  5.0000, 304.6154,   0.0000],\n",
       "        [  5.0000, 332.3077,   0.0000]], dtype=torch.float64)"
      ]
     },
     "execution_count": 3,
     "metadata": {},
     "output_type": "execute_result"
    }
   ],
   "source": [
    "angles[:20]"
   ]
  }
 ],
 "metadata": {
  "kernelspec": {
   "display_name": "torch-so3-dev",
   "language": "python",
   "name": "python3"
  },
  "language_info": {
   "codemirror_mode": {
    "name": "ipython",
    "version": 3
   },
   "file_extension": ".py",
   "mimetype": "text/x-python",
   "name": "python",
   "nbconvert_exporter": "python",
   "pygments_lexer": "ipython3",
   "version": "3.12.9"
  }
 },
 "nbformat": 4,
 "nbformat_minor": 2
}
